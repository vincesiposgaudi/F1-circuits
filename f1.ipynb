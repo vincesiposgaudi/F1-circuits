{
 "cells": [
  {
   "cell_type": "code",
   "execution_count": null,
   "id": "614eead8",
   "metadata": {},
   "outputs": [],
   "source": [
    "import requests\n",
    "from bs4 import BeautifulSoup\n",
    "import pandas as pd\n",
    "import country_converter as coco\n",
    "from selenium import webdriver as driver\n",
    "from geopy.geocoders import Nominatim\n",
    "import folium"
   ]
  },
  {
   "cell_type": "code",
   "execution_count": null,
   "id": "ade536ce",
   "metadata": {},
   "outputs": [],
   "source": [
    "#scraping data from a website\n",
    "df = pd.read_html('https://f1.fandom.com/wiki/Circuits')[0]\n",
    "df = df[df[\"Season(s)\"].str.contains(\"present\") == True]\n",
    "df = df[df[\"Location\"].str.contains(\"Miami Gardens, FL\")==False]\n",
    "df = df[df[\"Location\"].str.contains(\"Zandvoort\")==False]\n",
    "tracks = df.drop(columns=[\"Type\", \"Race(s)\", \"Season(s)\", \"Races held\"])\n",
    "tracks"
   ]
  },
  {
   "cell_type": "code",
   "execution_count": null,
   "id": "ee90ca90",
   "metadata": {},
   "outputs": [],
   "source": [
    "#generating the country names from their codes using country_converter\n",
    "tracks['Country Name'] = tracks.Country.apply(lambda x: coco.convert(names=x, to='name_short', not_found=None))\n",
    "tracks"
   ]
  },
  {
   "cell_type": "code",
   "execution_count": null,
   "id": "316f9e0f",
   "metadata": {},
   "outputs": [],
   "source": [
    "#as the original codes were not in ISO3 format, some codes needed to be converted manually\n",
    "df = tracks.replace({'Country Name':{'SIN': 'Singapore','MON': 'Monaco', 'UAE': 'United Arab Emirates', 'NED': 'Netherlands'}})\n",
    "df"
   ]
  },
  {
   "cell_type": "code",
   "execution_count": null,
   "id": "ac43830a",
   "metadata": {},
   "outputs": [],
   "source": [
    "#getting attendance data\n",
    "data = pd.read_html('https://f1destinations.com/2017-f1-attendance-figures/')[0]\n",
    "data = data[data[\"Race\"].str.contains(\"TOTAL\")==False]\n",
    "data = data.drop(columns=[\"% Change\"])\n",
    "\n",
    "columns_titles = [\"Race\",\"2016 Attendance\",\"2017 Attendance\"]\n",
    "\n",
    "data = data.reindex(columns=columns_titles)\n",
    "data[\"Growth (%)\"] = (((data[\"2017 Attendance\"] / data[\"2016 Attendance\"]) - 1) * 100).astype(int)\n",
    "data['Race'] = data['Race'].str.replace('\\d+', '', regex=True).str.replace('.', '', regex=True).str.replace(' ', '', regex=True)\n",
    "data = data.replace({'Race':{'USA': 'United States', 'AbuDhabi': 'United Arab Emirates', 'GreatBritain': 'United Kingdom'}})\n",
    "data"
   ]
  },
  {
   "cell_type": "code",
   "execution_count": null,
   "id": "0ce9c450",
   "metadata": {},
   "outputs": [],
   "source": [
    "join = pd.merge(df, data, left_on='Country Name', right_on='Race', how='left')\n",
    "join"
   ]
  },
  {
   "cell_type": "code",
   "execution_count": null,
   "id": "29eacb9d",
   "metadata": {},
   "outputs": [],
   "source": [
    "geolocator = Nominatim(user_agent='test')\n",
    "join['gcode'] = join['Location'].apply(geolocator.geocode)\n",
    "join['lat'] = [g.latitude for g in join.gcode]\n",
    "join['long'] = [g.longitude for g in join.gcode]\n",
    "final = join.drop(columns=[\"gcode\"])\n",
    "final"
   ]
  },
  {
   "cell_type": "code",
   "execution_count": null,
   "id": "b6c9def2",
   "metadata": {},
   "outputs": [],
   "source": [
    "#building the map\n",
    "def find_color(growth):\n",
    "    if (growth > 20):\n",
    "        return 'green'\n",
    "    if (growth > 10):\n",
    "        return 'yellow'\n",
    "    else:\n",
    "        return 'red'\n",
    "\n",
    "map_clusters = folium.Map(zoom_start=4)\n",
    "\n",
    "for lat, long, att, growth in zip(final['lat'], final['long'], final['2017 Attendance'], final['Growth (%)']):\n",
    "    folium.CircleMarker(\n",
    "    [lat, long],\n",
    "    color='black',\n",
    "    fill_color=find_color(growth),\n",
    "    weight=1,\n",
    "    fill_opacity = 0.6,\n",
    "    radius = att/20000).add_to(map_clusters)\n",
    "    \n",
    "map_clusters"
   ]
  },
  {
   "cell_type": "code",
   "execution_count": null,
   "id": "4f330f42",
   "metadata": {},
   "outputs": [],
   "source": [
    "from tkinter import *\n",
    "from tkinter import filedialog\n",
    "from tkinter import Tk\n",
    "import json\n",
    "\n",
    "# Quickly get rid of the root window popup\n",
    "root = Tk()\n",
    "root.withdraw()\n",
    "\n",
    "# Use Filedialog.askopenfilename to open a dialog window where you can select your credentials file.\n",
    "filepath = filedialog.askopenfilename()\n",
    "file = open(filepath, 'r')\n",
    "\n",
    "# Open the credentials file with json.load\n",
    "credentials = json.load(file)\n",
    "file.close()\n",
    "\n",
    "api_key = credentials['api_key']\n",
    "client_id = credentials['client_id']\n",
    "client_secret = credentials['client_secret']\n",
    "category_id = '4eb1c1623b7b52c0e1adc2ec'\n",
    "version = 1\n",
    "\n",
    "print(\"api key:\", api_key)\n",
    "print(\"id:\", client_id)\n",
    "print(\"secret key:\", client_secret)\n"
   ]
  },
  {
   "cell_type": "code",
   "execution_count": null,
   "id": "28eb6c4a",
   "metadata": {},
   "outputs": [],
   "source": []
  }
 ],
 "metadata": {
  "kernelspec": {
   "display_name": "Python 3 (ipykernel)",
   "language": "python",
   "name": "python3"
  },
  "language_info": {
   "codemirror_mode": {
    "name": "ipython",
    "version": 3
   },
   "file_extension": ".py",
   "mimetype": "text/x-python",
   "name": "python",
   "nbconvert_exporter": "python",
   "pygments_lexer": "ipython3",
   "version": "3.9.7"
  }
 },
 "nbformat": 4,
 "nbformat_minor": 5
}
